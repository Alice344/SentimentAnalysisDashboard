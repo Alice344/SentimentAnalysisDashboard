{
 "cells": [
  {
   "cell_type": "code",
   "execution_count": 1,
   "id": "b00422c3",
   "metadata": {},
   "outputs": [
    {
     "name": "stderr",
     "output_type": "stream",
     "text": [
      "/tmp/ipykernel_15950/2608294218.py:4: UserWarning: \n",
      "The dash_table package is deprecated. Please replace\n",
      "`import dash_table` with `from dash import dash_table`\n",
      "\n",
      "Also, if you're using any of the table format helpers (e.g. Group), replace \n",
      "`from dash_table.Format import Group` with \n",
      "`from dash.dash_table.Format import Group`\n",
      "  import dash_table\n"
     ]
    },
    {
     "data": {
      "application/vnd.jupyter.widget-view+json": {
       "model_id": "b3f6765592bd42449b8e5537ae97063a",
       "version_major": 2,
       "version_minor": 0
      },
      "text/plain": [
       "config.json:   0%|          | 0.00/747 [00:00<?, ?B/s]"
      ]
     },
     "metadata": {},
     "output_type": "display_data"
    },
    {
     "data": {
      "application/vnd.jupyter.widget-view+json": {
       "model_id": "14304a01e5d8423c80e1c3694e1ae0b4",
       "version_major": 2,
       "version_minor": 0
      },
      "text/plain": [
       "vocab.json:   0%|          | 0.00/899k [00:00<?, ?B/s]"
      ]
     },
     "metadata": {},
     "output_type": "display_data"
    },
    {
     "data": {
      "application/vnd.jupyter.widget-view+json": {
       "model_id": "e36e2362fd274f19bc14ec746ccd83a6",
       "version_major": 2,
       "version_minor": 0
      },
      "text/plain": [
       "merges.txt:   0%|          | 0.00/456k [00:00<?, ?B/s]"
      ]
     },
     "metadata": {},
     "output_type": "display_data"
    },
    {
     "data": {
      "application/vnd.jupyter.widget-view+json": {
       "model_id": "eeec450c108c47858cafbbfbea7091a4",
       "version_major": 2,
       "version_minor": 0
      },
      "text/plain": [
       "special_tokens_map.json:   0%|          | 0.00/150 [00:00<?, ?B/s]"
      ]
     },
     "metadata": {},
     "output_type": "display_data"
    },
    {
     "data": {
      "application/vnd.jupyter.widget-view+json": {
       "model_id": "561e9fe5b8a84f3098e7447a016309dc",
       "version_major": 2,
       "version_minor": 0
      },
      "text/plain": [
       "pytorch_model.bin:   0%|          | 0.00/499M [00:00<?, ?B/s]"
      ]
     },
     "metadata": {},
     "output_type": "display_data"
    },
    {
     "ename": "NameError",
     "evalue": "name 'app' is not defined",
     "output_type": "error",
     "traceback": [
      "\u001b[0;31m---------------------------------------------------------------------------\u001b[0m",
      "\u001b[0;31mNameError\u001b[0m                                 Traceback (most recent call last)",
      "Cell \u001b[0;32mIn[1], line 19\u001b[0m\n\u001b[1;32m     16\u001b[0m tokenizer \u001b[38;5;241m=\u001b[39m AutoTokenizer\u001b[38;5;241m.\u001b[39mfrom_pretrained(\u001b[38;5;124m\"\u001b[39m\u001b[38;5;124mcardiffnlp/twitter-roberta-base-sentiment\u001b[39m\u001b[38;5;124m\"\u001b[39m)\n\u001b[1;32m     17\u001b[0m model \u001b[38;5;241m=\u001b[39m AutoModelForSequenceClassification\u001b[38;5;241m.\u001b[39mfrom_pretrained(\u001b[38;5;124m\"\u001b[39m\u001b[38;5;124mcardiffnlp/twitter-roberta-base-sentiment\u001b[39m\u001b[38;5;124m\"\u001b[39m)\n\u001b[0;32m---> 19\u001b[0m \u001b[38;5;129m@app\u001b[39m\u001b[38;5;241m.\u001b[39mcallback(\n\u001b[1;32m     20\u001b[0m     [Output(\u001b[38;5;124m'\u001b[39m\u001b[38;5;124msentiment-chart\u001b[39m\u001b[38;5;124m'\u001b[39m, \u001b[38;5;124m'\u001b[39m\u001b[38;5;124mfigure\u001b[39m\u001b[38;5;124m'\u001b[39m),\n\u001b[1;32m     21\u001b[0m      Output(\u001b[38;5;124m'\u001b[39m\u001b[38;5;124mbtn-display\u001b[39m\u001b[38;5;124m'\u001b[39m, \u001b[38;5;124m'\u001b[39m\u001b[38;5;124mdisabled\u001b[39m\u001b[38;5;124m'\u001b[39m),\n\u001b[1;32m     22\u001b[0m      Output(\u001b[38;5;124m'\u001b[39m\u001b[38;5;124mbtn-download\u001b[39m\u001b[38;5;124m'\u001b[39m, \u001b[38;5;124m'\u001b[39m\u001b[38;5;124mdisabled\u001b[39m\u001b[38;5;124m'\u001b[39m),\n\u001b[1;32m     23\u001b[0m      Output(\u001b[38;5;124m'\u001b[39m\u001b[38;5;124mprogress-bar\u001b[39m\u001b[38;5;124m'\u001b[39m, \u001b[38;5;124m'\u001b[39m\u001b[38;5;124mvalue\u001b[39m\u001b[38;5;124m'\u001b[39m),\n\u001b[1;32m     24\u001b[0m      Output(\u001b[38;5;124m'\u001b[39m\u001b[38;5;124mprogress-indicator\u001b[39m\u001b[38;5;124m'\u001b[39m, \u001b[38;5;124m'\u001b[39m\u001b[38;5;124mchildren\u001b[39m\u001b[38;5;124m'\u001b[39m)],\n\u001b[1;32m     25\u001b[0m     Input(\u001b[38;5;124m'\u001b[39m\u001b[38;5;124mbtn-analyze\u001b[39m\u001b[38;5;124m'\u001b[39m, \u001b[38;5;124m'\u001b[39m\u001b[38;5;124mn_clicks\u001b[39m\u001b[38;5;124m'\u001b[39m),\n\u001b[1;32m     26\u001b[0m     State(\u001b[38;5;124m'\u001b[39m\u001b[38;5;124mupload-data\u001b[39m\u001b[38;5;124m'\u001b[39m, \u001b[38;5;124m'\u001b[39m\u001b[38;5;124mcontents\u001b[39m\u001b[38;5;124m'\u001b[39m),\n\u001b[1;32m     27\u001b[0m     State(\u001b[38;5;124m'\u001b[39m\u001b[38;5;124mtext-column\u001b[39m\u001b[38;5;124m'\u001b[39m, \u001b[38;5;124m'\u001b[39m\u001b[38;5;124mvalue\u001b[39m\u001b[38;5;124m'\u001b[39m),\n\u001b[1;32m     28\u001b[0m     prevent_initial_call\u001b[38;5;241m=\u001b[39m\u001b[38;5;28;01mTrue\u001b[39;00m\n\u001b[1;32m     29\u001b[0m )\n\u001b[1;32m     30\u001b[0m \u001b[38;5;28;01mdef\u001b[39;00m \u001b[38;5;21manalyze_sentiment\u001b[39m(n_clicks, contents, text_column):\n\u001b[1;32m     31\u001b[0m     \u001b[38;5;28;01mif\u001b[39;00m n_clicks \u001b[38;5;129;01mand\u001b[39;00m contents:\n\u001b[1;32m     32\u001b[0m         \u001b[38;5;28;01mtry\u001b[39;00m:\n",
      "\u001b[0;31mNameError\u001b[0m: name 'app' is not defined"
     ]
    }
   ],
   "source": [
    "import base64\n",
    "import io\n",
    "from wordcloud import WordCloud\n",
    "from jupyter_dash import JupyterDash\n",
    "from dash import dcc, html, Input, Output, State, callback\n",
    "import dash_bootstrap_components as dbc\n",
    "import plotly.express as px\n",
    "import pandas as pd\n",
    "from transformers import AutoTokenizer, AutoModelForSequenceClassification\n",
    "import torch\n",
    "\n",
    "# Setup device\n",
    "device = torch.device(\"cuda\" if torch.cuda.is_available() else \"cpu\")\n",
    "\n",
    "# Initialize tokenizer and model\n",
    "tokenizer = AutoTokenizer.from_pretrained(\"cardiffnlp/twitter-roberta-base-sentiment\")\n",
    "model = AutoModelForSequenceClassification.from_pretrained(\"cardiffnlp/twitter-roberta-base-sentiment\").to(device)\n",
    "\n",
    "def predict_sentiment(texts, batch_size=128):\n",
    "    predictions = []\n",
    "    for i in range(0, len(texts), batch_size):\n",
    "        batch_texts = texts[i:i+batch_size]\n",
    "        inputs = tokenizer(batch_texts, return_tensors=\"pt\", padding=True, truncation=True, max_length=512).to(device)\n",
    "        with torch.no_grad():\n",
    "            outputs = model(**inputs)\n",
    "        probabilities = torch.nn.functional.softmax(outputs.logits, dim=-1)\n",
    "        batch_predictions = torch.argmax(probabilities, dim=1)\n",
    "        predictions.extend(batch_predictions.cpu())\n",
    "    categories = ['Negative', 'Neutral', 'Positive']\n",
    "    return [categories[prediction] for prediction in predictions]\n",
    "\n",
    "# Utility function to convert PIL image to data URI\n",
    "def pil_to_b64(img, enc_format='png', **kwargs):\n",
    "    buff = io.BytesIO()\n",
    "    img.save(buff, format=enc_format, **kwargs)\n",
    "    encoded = base64.b64encode(buff.getvalue()).decode(\"utf-8\")\n",
    "    return f\"data:image/{enc_format};base64, \" + encoded\n",
    "\n",
    "# Setup the app\n",
    "app = JupyterDash(__name__, external_stylesheets=[dbc.themes.BOOTSTRAP])\n",
    "\n",
    "app.layout = dbc.Container([\n",
    "    dbc.Row([\n",
    "        dbc.Col([\n",
    "            html.H1(\"Twitter Sentiment Analysis Dashboard\"),\n",
    "            dcc.Upload(\n",
    "                id='upload-data',\n",
    "                children=html.Div(['Drag and Drop or ', html.A('Select Files')]),\n",
    "                style={'width': '100%', 'height': '60px', 'lineHeight': '60px',\n",
    "                       'borderWidth': '1px', 'borderStyle': 'dashed', 'borderRadius': '5px',\n",
    "                       'textAlign': 'center', 'margin': '10px'},\n",
    "                multiple=False\n",
    "            ),\n",
    "            dcc.Dropdown(id='column-dropdown', placeholder='Select column for analysis'),\n",
    "            dbc.Button(\"Analyze Sentiment with BERT\", id=\"btn-analyze\", color=\"success\", disabled=True),\n",
    "            dcc.Loading(id=\"loading-1\", type=\"default\", children=html.Div(id=\"loading-output-1\"))\n",
    "        ], width=4),\n",
    "        dbc.Col([\n",
    "            dbc.Table(id='data-preview', striped=True, bordered=True, hover=True),\n",
    "            html.Div(id='image-output')\n",
    "        ], width=8)\n",
    "    ])\n",
    "])\n",
    "\n",
    "@app.callback(\n",
    "    [Output('column-dropdown', 'options'),\n",
    "     Output('btn-analyze', 'disabled')],\n",
    "    Input('upload-data', 'contents'),\n",
    "    prevent_initial_call=True\n",
    ")\n",
    "def update_column_dropdown(contents):\n",
    "    if contents:\n",
    "        _, content_string = contents.split(',')\n",
    "        decoded = base64.b64decode(content_string)\n",
    "        df = pd.read_csv(io.StringIO(decoded.decode('utf-8')))\n",
    "        options = [{'label': col, 'value': col} for col in df.columns]\n",
    "        return options, False\n",
    "    return [], True\n",
    "\n",
    "@app.callback(\n",
    "    Output('data-preview', 'children'),\n",
    "    Input('upload-data', 'contents'),\n",
    "    prevent_initial_call=True\n",
    ")\n",
    "def display_data_preview(contents):\n",
    "    if contents:\n",
    "        _, content_string = contents.split(',')\n",
    "        decoded = base64.b64decode(content_string)\n",
    "        df = pd.read_csv(io.StringIO(decoded.decode('utf-8')))\n",
    "        return dbc.Table.from_dataframe(df.head(), striped=True, bordered=True, hover=True)\n",
    "\n",
    "@app.callback(\n",
    "    [Output('image-output', 'children'),  \n",
    "     Output('loading-output-1', 'children')],\n",
    "    [Input('btn-analyze', 'n_clicks')],\n",
    "    [State('upload-data', 'contents'),\n",
    "     State('column-dropdown', 'value')],\n",
    "    prevent_initial_call=True\n",
    ")\n",
    "def perform_analysis(n_clicks, contents, selected_column):\n",
    "    if n_clicks and contents and selected_column:\n",
    "        _, content_string = contents.split(',')\n",
    "        decoded = base64.b64decode(content_string)\n",
    "        df = pd.read_csv(io.StringIO(decoded.decode('utf-8')))\n",
    "        texts = df[selected_column].tolist()\n",
    "        sentiments = predict_sentiment(texts)\n",
    "        df['Sentiment'] = sentiments  \n",
    "\n",
    "        # Generating word clouds based on sentiments\n",
    "        positive_text = \" \".join(df[df['Sentiment'] == 'Positive'][selected_column].astype(str).tolist())\n",
    "        neutral_text = \" \".join(df[df['Sentiment'] == 'Neutral'][selected_column].astype(str).tolist())\n",
    "        negative_text = \" \".join(df[df['Sentiment'] == 'Negative'][selected_column].astype(str).tolist())\n",
    "\n",
    "        positive_wc = WordCloud(width=800, height=400, background_color='white', colormap='Greens', collocations=False).generate(positive_text)\n",
    "        neutral_wc = WordCloud(width=800, height=400, background_color='white', colormap='Blues', collocations=False).generate(neutral_text)\n",
    "        negative_wc = WordCloud(width=800, height=400, background_color='white', colormap='Reds', collocations=False).generate(negative_text)\n",
    "\n",
    "        # Convert PIL images to data URIs\n",
    "        positive_img = pil_to_b64(positive_wc.to_image())\n",
    "        neutral_img = pil_to_b64(neutral_wc.to_image())\n",
    "        negative_img = pil_to_b64(negative_wc.to_image())\n",
    "\n",
    "        # Create HTML images to display\n",
    "        images_html = html.Div([\n",
    "            html.Div([html.Img(src=positive_img, style={'width': '100%', 'height': '100%'}), html.P(\"Positive Sentiment\")], className=\"four columns\"),\n",
    "            html.Div([html.Img(src=neutral_img, style={'width': '100%', 'height': '100%'}), html.P(\"Neutral Sentiment\")], className=\"four columns\"),\n",
    "            html.Div([html.Img(src=negative_img, style={'width': '100%', 'height': '100%'}), html.P(\"Negative Sentiment\")], className=\"four columns\")\n",
    "        ], className=\"row\")\n",
    "\n",
    "        return images_html, f\"Analysis completed for {len(df)} records.\"\n",
    "\n",
    "    return None, \"No data to analyze or column not selected.\"\n",
    "\n",
    "\n",
    "app.run_server(mode='inline')\n"
   ]
  },
  {
   "cell_type": "code",
   "execution_count": null,
   "id": "2882defd",
   "metadata": {},
   "outputs": [],
   "source": []
  }
 ],
 "metadata": {
  "kernelspec": {
   "display_name": "Python 3 (ipykernel)",
   "language": "python",
   "name": "python3"
  },
  "language_info": {
   "codemirror_mode": {
    "name": "ipython",
    "version": 3
   },
   "file_extension": ".py",
   "mimetype": "text/x-python",
   "name": "python",
   "nbconvert_exporter": "python",
   "pygments_lexer": "ipython3",
   "version": "3.9.18"
  }
 },
 "nbformat": 4,
 "nbformat_minor": 5
}
