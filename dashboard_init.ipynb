{
 "cells": [
  {
   "cell_type": "code",
   "execution_count": 2,
   "id": "d4aae377-f310-4105-8990-f1738932f78f",
   "metadata": {},
   "outputs": [],
   "source": [
    "import dash\n",
    "from dash import html, dcc, Input, Output, callback\n",
    "import dash_bootstrap_components as dbc\n",
    "import plotly.express as px\n",
    "import pandas as pd\n",
    "import os\n",
    "# from sentiment_analysis import analyze_sentiment  # Assume this is a function you've defined to analyze sentiment\n",
    "\n",
    "\n"
   ]
  },
  {
   "cell_type": "code",
   "execution_count": 8,
   "id": "2a9161aa",
   "metadata": {},
   "outputs": [
    {
     "name": "stderr",
     "output_type": "stream",
     "text": [
      "/var/folders/np/rvthtbk913nd1z49b1gr5tdc0000gn/T/ipykernel_93466/2478652828.py:4: UserWarning:\n",
      "\n",
      "\n",
      "The dash_table package is deprecated. Please replace\n",
      "`import dash_table` with `from dash import dash_table`\n",
      "\n",
      "Also, if you're using any of the table format helpers (e.g. Group), replace \n",
      "`from dash_table.Format import Group` with \n",
      "`from dash.dash_table.Format import Group`\n",
      "\n"
     ]
    },
    {
     "data": {
      "text/html": [
       "\n",
       "        <iframe\n",
       "            width=\"100%\"\n",
       "            height=\"650\"\n",
       "            src=\"http://127.0.0.1:8050/\"\n",
       "            frameborder=\"0\"\n",
       "            allowfullscreen\n",
       "            \n",
       "        ></iframe>\n",
       "        "
      ],
      "text/plain": [
       "<IPython.lib.display.IFrame at 0x15b457d30>"
      ]
     },
     "metadata": {},
     "output_type": "display_data"
    }
   ],
   "source": [
    "import dash\n",
    "from dash import dcc, html, Input, Output, State, callback\n",
    "import dash_bootstrap_components as dbc\n",
    "import dash_table\n",
    "import plotly.express as px\n",
    "import pandas as pd\n",
    "import os\n",
    "from wordcloud import WordCloud\n",
    "import base64\n",
    "from io import BytesIO\n",
    "import torch\n",
    "\n",
    "app = dash.Dash(__name__, external_stylesheets=[dbc.themes.BOOTSTRAP])\n",
    "app.layout = dbc.Container([\n",
    "    dbc.Row([\n",
    "        dbc.Col([\n",
    "            html.H1(\"Twitter Sentiment Analysis Dashboard\"),\n",
    "            dcc.Upload(\n",
    "                id='upload-data',\n",
    "                children=html.Div([\n",
    "                    'Drag and Drop or ',\n",
    "                    html.A('Select Files')\n",
    "                ]),\n",
    "                style={\n",
    "                    'width': '100%', 'height': '60px', 'lineHeight': '60px',\n",
    "                    'borderWidth': '1px', 'borderStyle': 'dashed', 'borderRadius': '5px',\n",
    "                    'textAlign': 'center', 'margin': '10px'\n",
    "                },\n",
    "                multiple=False  \n",
    "            ),\n",
    "            dbc.Button(\"Analyze Sentiment with BERT\", id=\"btn-analyze\", color=\"success\"),\n",
    "            html.Br(),\n",
    "            html.Br(),\n",
    "            dbc.Button(\"Display Visualization\", id=\"btn-display\", color=\"info\")\n",
    "        ], width=4),\n",
    "        dbc.Col([\n",
    "            dcc.Graph(id='sentiment-chart'),\n",
    "            html.Img(id='visualization'),\n",
    "            dash_table.DataTable(id='table')\n",
    "        ], width=8)\n",
    "    ])\n",
    "])\n",
    "\n",
    "@callback(\n",
    "    Output('table', 'data'),\n",
    "    Output('table', 'columns'),\n",
    "    Input('upload-data', 'contents'),\n",
    "    prevent_initial_call=True\n",
    ")\n",
    "def update_output(contents):\n",
    "    if contents:\n",
    "        content_type, content_string = contents.split(',')\n",
    "        decoded = base64.b64decode(content_string)\n",
    "        try:\n",
    "            df = pd.read_csv(BytesIO(decoded))\n",
    "            return df.head(10).to_dict('records'), [{\"name\": i, \"id\": i} for i in df.columns]\n",
    "        except Exception as e:\n",
    "            print(e)\n",
    "            return [], []\n",
    "\n",
    "@callback(\n",
    "    Output('sentiment-chart', 'figure'),\n",
    "    Input('btn-analyze', 'n_clicks'),\n",
    "    State('table', 'data'),\n",
    "    prevent_initial_call=True\n",
    ")\n",
    "def update_sentiment_output(n_clicks, rows):\n",
    "    if n_clicks and rows:\n",
    "        df = pd.DataFrame(rows)\n",
    "        # df['Sentiment'] = predict_sentiment(df['content'].tolist())\n",
    "        fig = px.bar(df['Sentiment'].value_counts(), title=\"Sentiment Analysis Results\")\n",
    "        return fig\n",
    "\n",
    "@callback(\n",
    "    Output('visualization', 'src'),  \n",
    "    Input('btn-display', 'n_clicks'),\n",
    "    State('table', 'data'),\n",
    "    prevent_initial_call=True\n",
    ")\n",
    "def update_visualization(n_clicks, rows):\n",
    "    if n_clicks and rows:\n",
    "        df = pd.DataFrame(rows)\n",
    "        text = \" \".join(review for review in df.content)\n",
    "        wordcloud = WordCloud(background_color='white').generate(text)\n",
    "        img = BytesIO()\n",
    "        wordcloud.to_image().save(img, format='PNG')\n",
    "        return \"data:image/png;base64,{}\".format(base64.b64encode(img.getvalue()).decode())\n",
    "\n",
    "# Run the app\n",
    "if __name__ == '__main__':\n",
    "    app.run_server(debug=True)\n"
   ]
  },
  {
   "cell_type": "code",
   "execution_count": null,
   "id": "b00422c3",
   "metadata": {},
   "outputs": [],
   "source": []
  }
 ],
 "metadata": {
  "kernelspec": {
   "display_name": "Python 3 (ipykernel)",
   "language": "python",
   "name": "python3"
  },
  "language_info": {
   "codemirror_mode": {
    "name": "ipython",
    "version": 3
   },
   "file_extension": ".py",
   "mimetype": "text/x-python",
   "name": "python",
   "nbconvert_exporter": "python",
   "pygments_lexer": "ipython3",
   "version": "3.9.18"
  }
 },
 "nbformat": 4,
 "nbformat_minor": 5
}
